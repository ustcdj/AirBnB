{
 "cells": [
  {
   "cell_type": "markdown",
   "metadata": {},
   "source": [
    "## AirBnB price trend"
   ]
  },
  {
   "cell_type": "code",
   "execution_count": 22,
   "metadata": {},
   "outputs": [],
   "source": [
    "import pandas as pd\n",
    "import datetime \n",
    "import matplotlib.pyplot as plt\n",
    "import seaborn as sns\n",
    "%matplotlib inline"
   ]
  },
  {
   "cell_type": "code",
   "execution_count": 23,
   "metadata": {},
   "outputs": [],
   "source": [
    "pd.set_option(\"display.max.columns\", None)\n",
    "pd.set_option('min_rows', 10)"
   ]
  },
  {
   "cell_type": "markdown",
   "metadata": {},
   "source": [
    "### 1.1 Load the data"
   ]
  },
  {
   "cell_type": "code",
   "execution_count": 24,
   "metadata": {},
   "outputs": [],
   "source": [
    "df_boston_calendar = pd.read_csv('boston\\calendar.csv', sep=',')\n",
    "df_seattle_calendar = pd.read_csv('seattle\\calendar.csv', sep=',')"
   ]
  },
  {
   "cell_type": "code",
   "execution_count": 25,
   "metadata": {},
   "outputs": [
    {
     "data": {
      "text/html": [
       "<div>\n",
       "<style scoped>\n",
       "    .dataframe tbody tr th:only-of-type {\n",
       "        vertical-align: middle;\n",
       "    }\n",
       "\n",
       "    .dataframe tbody tr th {\n",
       "        vertical-align: top;\n",
       "    }\n",
       "\n",
       "    .dataframe thead th {\n",
       "        text-align: right;\n",
       "    }\n",
       "</style>\n",
       "<table border=\"1\" class=\"dataframe\">\n",
       "  <thead>\n",
       "    <tr style=\"text-align: right;\">\n",
       "      <th></th>\n",
       "      <th>listing_id</th>\n",
       "      <th>date</th>\n",
       "      <th>available</th>\n",
       "      <th>price</th>\n",
       "    </tr>\n",
       "  </thead>\n",
       "  <tbody>\n",
       "    <tr>\n",
       "      <td>0</td>\n",
       "      <td>12147973</td>\n",
       "      <td>2017-09-05</td>\n",
       "      <td>f</td>\n",
       "      <td>NaN</td>\n",
       "    </tr>\n",
       "    <tr>\n",
       "      <td>1</td>\n",
       "      <td>12147973</td>\n",
       "      <td>2017-09-04</td>\n",
       "      <td>f</td>\n",
       "      <td>NaN</td>\n",
       "    </tr>\n",
       "    <tr>\n",
       "      <td>2</td>\n",
       "      <td>12147973</td>\n",
       "      <td>2017-09-03</td>\n",
       "      <td>f</td>\n",
       "      <td>NaN</td>\n",
       "    </tr>\n",
       "    <tr>\n",
       "      <td>3</td>\n",
       "      <td>12147973</td>\n",
       "      <td>2017-09-02</td>\n",
       "      <td>f</td>\n",
       "      <td>NaN</td>\n",
       "    </tr>\n",
       "    <tr>\n",
       "      <td>4</td>\n",
       "      <td>12147973</td>\n",
       "      <td>2017-09-01</td>\n",
       "      <td>f</td>\n",
       "      <td>NaN</td>\n",
       "    </tr>\n",
       "  </tbody>\n",
       "</table>\n",
       "</div>"
      ],
      "text/plain": [
       "   listing_id        date available price\n",
       "0    12147973  2017-09-05         f   NaN\n",
       "1    12147973  2017-09-04         f   NaN\n",
       "2    12147973  2017-09-03         f   NaN\n",
       "3    12147973  2017-09-02         f   NaN\n",
       "4    12147973  2017-09-01         f   NaN"
      ]
     },
     "execution_count": 25,
     "metadata": {},
     "output_type": "execute_result"
    }
   ],
   "source": [
    "df_boston_calendar.head()"
   ]
  },
  {
   "cell_type": "markdown",
   "metadata": {},
   "source": [
    "### 1.2 Process the data"
   ]
  },
  {
   "cell_type": "code",
   "execution_count": 26,
   "metadata": {},
   "outputs": [
    {
     "data": {
      "text/html": [
       "<div>\n",
       "<style scoped>\n",
       "    .dataframe tbody tr th:only-of-type {\n",
       "        vertical-align: middle;\n",
       "    }\n",
       "\n",
       "    .dataframe tbody tr th {\n",
       "        vertical-align: top;\n",
       "    }\n",
       "\n",
       "    .dataframe thead th {\n",
       "        text-align: right;\n",
       "    }\n",
       "</style>\n",
       "<table border=\"1\" class=\"dataframe\">\n",
       "  <thead>\n",
       "    <tr style=\"text-align: right;\">\n",
       "      <th></th>\n",
       "      <th></th>\n",
       "      <th>id</th>\n",
       "      <th>date</th>\n",
       "      <th>available</th>\n",
       "      <th>price</th>\n",
       "    </tr>\n",
       "    <tr>\n",
       "      <th>city</th>\n",
       "      <th>i</th>\n",
       "      <th></th>\n",
       "      <th></th>\n",
       "      <th></th>\n",
       "      <th></th>\n",
       "    </tr>\n",
       "  </thead>\n",
       "  <tbody>\n",
       "    <tr>\n",
       "      <td rowspan=\"5\" valign=\"top\">boston</td>\n",
       "      <td>0</td>\n",
       "      <td>12147973</td>\n",
       "      <td>2017-09-05</td>\n",
       "      <td>f</td>\n",
       "      <td>NaN</td>\n",
       "    </tr>\n",
       "    <tr>\n",
       "      <td>1</td>\n",
       "      <td>12147973</td>\n",
       "      <td>2017-09-04</td>\n",
       "      <td>f</td>\n",
       "      <td>NaN</td>\n",
       "    </tr>\n",
       "    <tr>\n",
       "      <td>2</td>\n",
       "      <td>12147973</td>\n",
       "      <td>2017-09-03</td>\n",
       "      <td>f</td>\n",
       "      <td>NaN</td>\n",
       "    </tr>\n",
       "    <tr>\n",
       "      <td>3</td>\n",
       "      <td>12147973</td>\n",
       "      <td>2017-09-02</td>\n",
       "      <td>f</td>\n",
       "      <td>NaN</td>\n",
       "    </tr>\n",
       "    <tr>\n",
       "      <td>4</td>\n",
       "      <td>12147973</td>\n",
       "      <td>2017-09-01</td>\n",
       "      <td>f</td>\n",
       "      <td>NaN</td>\n",
       "    </tr>\n",
       "  </tbody>\n",
       "</table>\n",
       "</div>"
      ],
      "text/plain": [
       "                id        date available price\n",
       "city   i                                      \n",
       "boston 0  12147973  2017-09-05         f   NaN\n",
       "       1  12147973  2017-09-04         f   NaN\n",
       "       2  12147973  2017-09-03         f   NaN\n",
       "       3  12147973  2017-09-02         f   NaN\n",
       "       4  12147973  2017-09-01         f   NaN"
      ]
     },
     "execution_count": 26,
     "metadata": {},
     "output_type": "execute_result"
    }
   ],
   "source": [
    "# combine calendars of Boston and Seattle\n",
    "df_calendar = pd.concat([df_boston_calendar, df_seattle_calendar], keys=['boston', 'seattle'], names=['city','i'], sort=False)\n",
    "df_calendar.rename(columns={'listing_id': 'id'}, inplace=True)\n",
    "df_calendar.head()"
   ]
  },
  {
   "cell_type": "code",
   "execution_count": 27,
   "metadata": {},
   "outputs": [
    {
     "data": {
      "text/html": [
       "<div>\n",
       "<style scoped>\n",
       "    .dataframe tbody tr th:only-of-type {\n",
       "        vertical-align: middle;\n",
       "    }\n",
       "\n",
       "    .dataframe tbody tr th {\n",
       "        vertical-align: top;\n",
       "    }\n",
       "\n",
       "    .dataframe thead th {\n",
       "        text-align: right;\n",
       "    }\n",
       "</style>\n",
       "<table border=\"1\" class=\"dataframe\">\n",
       "  <thead>\n",
       "    <tr style=\"text-align: right;\">\n",
       "      <th></th>\n",
       "      <th>city</th>\n",
       "      <th>id</th>\n",
       "      <th>date</th>\n",
       "      <th>available</th>\n",
       "      <th>price</th>\n",
       "    </tr>\n",
       "  </thead>\n",
       "  <tbody>\n",
       "    <tr>\n",
       "      <td>365</td>\n",
       "      <td>boston</td>\n",
       "      <td>3075044</td>\n",
       "      <td>2017-08-22</td>\n",
       "      <td>t</td>\n",
       "      <td>$65.00</td>\n",
       "    </tr>\n",
       "    <tr>\n",
       "      <td>366</td>\n",
       "      <td>boston</td>\n",
       "      <td>3075044</td>\n",
       "      <td>2017-08-21</td>\n",
       "      <td>t</td>\n",
       "      <td>$65.00</td>\n",
       "    </tr>\n",
       "    <tr>\n",
       "      <td>367</td>\n",
       "      <td>boston</td>\n",
       "      <td>3075044</td>\n",
       "      <td>2017-08-20</td>\n",
       "      <td>t</td>\n",
       "      <td>$65.00</td>\n",
       "    </tr>\n",
       "    <tr>\n",
       "      <td>368</td>\n",
       "      <td>boston</td>\n",
       "      <td>3075044</td>\n",
       "      <td>2017-08-19</td>\n",
       "      <td>t</td>\n",
       "      <td>$75.00</td>\n",
       "    </tr>\n",
       "    <tr>\n",
       "      <td>369</td>\n",
       "      <td>boston</td>\n",
       "      <td>3075044</td>\n",
       "      <td>2017-08-18</td>\n",
       "      <td>t</td>\n",
       "      <td>$75.00</td>\n",
       "    </tr>\n",
       "  </tbody>\n",
       "</table>\n",
       "</div>"
      ],
      "text/plain": [
       "       city       id        date available   price\n",
       "365  boston  3075044  2017-08-22         t  $65.00\n",
       "366  boston  3075044  2017-08-21         t  $65.00\n",
       "367  boston  3075044  2017-08-20         t  $65.00\n",
       "368  boston  3075044  2017-08-19         t  $75.00\n",
       "369  boston  3075044  2017-08-18         t  $75.00"
      ]
     },
     "execution_count": 27,
     "metadata": {},
     "output_type": "execute_result"
    }
   ],
   "source": [
    "df_calendar.reset_index(inplace=True)\n",
    "\n",
    "# drop available='f'\n",
    "df_calendar.dropna(inplace=True)\n",
    "df_calendar.drop(axis=1, columns=['i'], inplace=True)\n",
    "df_calendar.head()"
   ]
  },
  {
   "cell_type": "code",
   "execution_count": 28,
   "metadata": {},
   "outputs": [
    {
     "data": {
      "text/plain": [
       "(1577579, 5)"
      ]
     },
     "execution_count": 28,
     "metadata": {},
     "output_type": "execute_result"
    }
   ],
   "source": [
    "df_calendar.shape"
   ]
  },
  {
   "cell_type": "code",
   "execution_count": 29,
   "metadata": {},
   "outputs": [],
   "source": [
    "# convert string price to numeric\n",
    "df_calendar.replace('[$,]', '', regex=True, inplace=True)\n",
    "df_calendar.price = df_calendar.price.astype(float)\n",
    "\n",
    "# convert string date to actual date\n",
    "df_calendar['date'] = pd.to_datetime(df_calendar['date'])\n",
    "\n",
    "# convert id(listing_id) to string\n",
    "df_calendar.id = df_calendar.id.astype('O')"
   ]
  },
  {
   "cell_type": "code",
   "execution_count": 30,
   "metadata": {},
   "outputs": [
    {
     "data": {
      "text/plain": [
       "array([[<matplotlib.axes._subplots.AxesSubplot object at 0x0000025A16AA2148>]],\n",
       "      dtype=object)"
      ]
     },
     "execution_count": 30,
     "metadata": {},
     "output_type": "execute_result"
    },
    {
     "data": {
      "image/png": "[encoded data removed]",
      "text/plain": [
       "<Figure size 1080x288 with 1 Axes>"
      ]
     },
     "metadata": {
      "needs_background": "light"
     },
     "output_type": "display_data"
    }
   ],
   "source": [
    "# check price distribution\n",
    "df_calendar.hist(figsize=(15, 4), bins=50)"
   ]
  },
  {
   "cell_type": "code",
   "execution_count": 31,
   "metadata": {},
   "outputs": [
    {
     "data": {
      "text/plain": [
       "array([[<matplotlib.axes._subplots.AxesSubplot object at 0x0000025A1462E248>]],\n",
       "      dtype=object)"
      ]
     },
     "execution_count": 31,
     "metadata": {},
     "output_type": "execute_result"
    },
    {
     "data": {
      "image/png": "[encoded data removed]",
      "text/plain": [
       "<Figure size 1080x288 with 1 Axes>"
      ]
     },
     "metadata": {
      "needs_background": "light"
     },
     "output_type": "display_data"
    }
   ],
   "source": [
    "df_calendar[(df_calendar.price < 1000)].hist(figsize=(15, 4), bins=50)"
   ]
  },
  {
   "cell_type": "code",
   "execution_count": 32,
   "metadata": {},
   "outputs": [
    {
     "data": {
      "text/plain": [
       "(1564289, 5)"
      ]
     },
     "execution_count": 32,
     "metadata": {},
     "output_type": "execute_result"
    }
   ],
   "source": [
    "# drop records with price >= $700 (most of the records have price within $700/day)\n",
    "df_calendar = df_calendar[df_calendar.price < 700]\n",
    "df_calendar.shape"
   ]
  },
  {
   "cell_type": "code",
   "execution_count": 33,
   "metadata": {},
   "outputs": [
    {
     "data": {
      "text/html": [
       "<div>\n",
       "<style scoped>\n",
       "    .dataframe tbody tr th:only-of-type {\n",
       "        vertical-align: middle;\n",
       "    }\n",
       "\n",
       "    .dataframe tbody tr th {\n",
       "        vertical-align: top;\n",
       "    }\n",
       "\n",
       "    .dataframe thead th {\n",
       "        text-align: right;\n",
       "    }\n",
       "</style>\n",
       "<table border=\"1\" class=\"dataframe\">\n",
       "  <thead>\n",
       "    <tr style=\"text-align: right;\">\n",
       "      <th></th>\n",
       "      <th>city</th>\n",
       "      <th>id</th>\n",
       "      <th>date</th>\n",
       "      <th>available</th>\n",
       "      <th>price</th>\n",
       "      <th>YEAR</th>\n",
       "      <th>MONTH</th>\n",
       "      <th>month</th>\n",
       "      <th>WEEKDAY</th>\n",
       "      <th>weekday</th>\n",
       "      <th>YYYYMM</th>\n",
       "    </tr>\n",
       "  </thead>\n",
       "  <tbody>\n",
       "    <tr>\n",
       "      <td>365</td>\n",
       "      <td>boston</td>\n",
       "      <td>3075044</td>\n",
       "      <td>2017-08-22</td>\n",
       "      <td>t</td>\n",
       "      <td>65.0</td>\n",
       "      <td>2017</td>\n",
       "      <td>August</td>\n",
       "      <td>08</td>\n",
       "      <td>Tuesday</td>\n",
       "      <td>2</td>\n",
       "      <td>201708</td>\n",
       "    </tr>\n",
       "    <tr>\n",
       "      <td>366</td>\n",
       "      <td>boston</td>\n",
       "      <td>3075044</td>\n",
       "      <td>2017-08-21</td>\n",
       "      <td>t</td>\n",
       "      <td>65.0</td>\n",
       "      <td>2017</td>\n",
       "      <td>August</td>\n",
       "      <td>08</td>\n",
       "      <td>Monday</td>\n",
       "      <td>1</td>\n",
       "      <td>201708</td>\n",
       "    </tr>\n",
       "    <tr>\n",
       "      <td>367</td>\n",
       "      <td>boston</td>\n",
       "      <td>3075044</td>\n",
       "      <td>2017-08-20</td>\n",
       "      <td>t</td>\n",
       "      <td>65.0</td>\n",
       "      <td>2017</td>\n",
       "      <td>August</td>\n",
       "      <td>08</td>\n",
       "      <td>Sunday</td>\n",
       "      <td>0</td>\n",
       "      <td>201708</td>\n",
       "    </tr>\n",
       "    <tr>\n",
       "      <td>368</td>\n",
       "      <td>boston</td>\n",
       "      <td>3075044</td>\n",
       "      <td>2017-08-19</td>\n",
       "      <td>t</td>\n",
       "      <td>75.0</td>\n",
       "      <td>2017</td>\n",
       "      <td>August</td>\n",
       "      <td>08</td>\n",
       "      <td>Saturday</td>\n",
       "      <td>6</td>\n",
       "      <td>201708</td>\n",
       "    </tr>\n",
       "    <tr>\n",
       "      <td>369</td>\n",
       "      <td>boston</td>\n",
       "      <td>3075044</td>\n",
       "      <td>2017-08-18</td>\n",
       "      <td>t</td>\n",
       "      <td>75.0</td>\n",
       "      <td>2017</td>\n",
       "      <td>August</td>\n",
       "      <td>08</td>\n",
       "      <td>Friday</td>\n",
       "      <td>5</td>\n",
       "      <td>201708</td>\n",
       "    </tr>\n",
       "  </tbody>\n",
       "</table>\n",
       "</div>"
      ],
      "text/plain": [
       "       city       id       date available  price  YEAR   MONTH month  \\\n",
       "365  boston  3075044 2017-08-22         t   65.0  2017  August    08   \n",
       "366  boston  3075044 2017-08-21         t   65.0  2017  August    08   \n",
       "367  boston  3075044 2017-08-20         t   65.0  2017  August    08   \n",
       "368  boston  3075044 2017-08-19         t   75.0  2017  August    08   \n",
       "369  boston  3075044 2017-08-18         t   75.0  2017  August    08   \n",
       "\n",
       "      WEEKDAY weekday  YYYYMM  \n",
       "365   Tuesday       2  201708  \n",
       "366    Monday       1  201708  \n",
       "367    Sunday       0  201708  \n",
       "368  Saturday       6  201708  \n",
       "369    Friday       5  201708  "
      ]
     },
     "execution_count": 33,
     "metadata": {},
     "output_type": "execute_result"
    }
   ],
   "source": [
    "# add some date variables for each plotting\n",
    "df_calendar['YEAR'] = df_calendar.date.apply(lambda x: x.strftime('%Y'))\n",
    "df_calendar['MONTH'] = df_calendar.date.apply(lambda x: x.strftime('%B'))\n",
    "df_calendar['month'] = df_calendar.date.apply(lambda x: x.strftime('%m'))\n",
    "df_calendar['WEEKDAY'] = df_calendar.date.apply(lambda x: x.strftime('%A'))\n",
    "df_calendar['weekday'] = df_calendar.date.apply(lambda x: x.strftime('%w'))\n",
    "df_calendar['YYYYMM'] = df_calendar['YEAR'] + df_calendar['month']\n",
    "df_calendar.head()"
   ]
  },
  {
   "cell_type": "code",
   "execution_count": 34,
   "metadata": {},
   "outputs": [
    {
     "data": {
      "text/html": [
       "<div>\n",
       "<style scoped>\n",
       "    .dataframe tbody tr th:only-of-type {\n",
       "        vertical-align: middle;\n",
       "    }\n",
       "\n",
       "    .dataframe tbody tr th {\n",
       "        vertical-align: top;\n",
       "    }\n",
       "\n",
       "    .dataframe thead th {\n",
       "        text-align: right;\n",
       "    }\n",
       "</style>\n",
       "<table border=\"1\" class=\"dataframe\">\n",
       "  <thead>\n",
       "    <tr style=\"text-align: right;\">\n",
       "      <th></th>\n",
       "      <th>city</th>\n",
       "      <th>id</th>\n",
       "      <th>date</th>\n",
       "      <th>available</th>\n",
       "      <th>price</th>\n",
       "      <th>YEAR</th>\n",
       "      <th>MONTH</th>\n",
       "      <th>month</th>\n",
       "      <th>WEEKDAY</th>\n",
       "      <th>weekday</th>\n",
       "      <th>YYYYMM</th>\n",
       "      <th>YYYY-MM</th>\n",
       "      <th>WeekDay</th>\n",
       "    </tr>\n",
       "  </thead>\n",
       "  <tbody>\n",
       "    <tr>\n",
       "      <td>365</td>\n",
       "      <td>boston</td>\n",
       "      <td>3075044</td>\n",
       "      <td>2017-08-22</td>\n",
       "      <td>t</td>\n",
       "      <td>65.0</td>\n",
       "      <td>2017</td>\n",
       "      <td>August</td>\n",
       "      <td>08</td>\n",
       "      <td>Tuesday</td>\n",
       "      <td>2</td>\n",
       "      <td>201708</td>\n",
       "      <td>2017-08</td>\n",
       "      <td>2-Tuesday</td>\n",
       "    </tr>\n",
       "    <tr>\n",
       "      <td>366</td>\n",
       "      <td>boston</td>\n",
       "      <td>3075044</td>\n",
       "      <td>2017-08-21</td>\n",
       "      <td>t</td>\n",
       "      <td>65.0</td>\n",
       "      <td>2017</td>\n",
       "      <td>August</td>\n",
       "      <td>08</td>\n",
       "      <td>Monday</td>\n",
       "      <td>1</td>\n",
       "      <td>201708</td>\n",
       "      <td>2017-08</td>\n",
       "      <td>1-Monday</td>\n",
       "    </tr>\n",
       "    <tr>\n",
       "      <td>367</td>\n",
       "      <td>boston</td>\n",
       "      <td>3075044</td>\n",
       "      <td>2017-08-20</td>\n",
       "      <td>t</td>\n",
       "      <td>65.0</td>\n",
       "      <td>2017</td>\n",
       "      <td>August</td>\n",
       "      <td>08</td>\n",
       "      <td>Sunday</td>\n",
       "      <td>0</td>\n",
       "      <td>201708</td>\n",
       "      <td>2017-08</td>\n",
       "      <td>0-Sunday</td>\n",
       "    </tr>\n",
       "    <tr>\n",
       "      <td>368</td>\n",
       "      <td>boston</td>\n",
       "      <td>3075044</td>\n",
       "      <td>2017-08-19</td>\n",
       "      <td>t</td>\n",
       "      <td>75.0</td>\n",
       "      <td>2017</td>\n",
       "      <td>August</td>\n",
       "      <td>08</td>\n",
       "      <td>Saturday</td>\n",
       "      <td>6</td>\n",
       "      <td>201708</td>\n",
       "      <td>2017-08</td>\n",
       "      <td>6-Saturday</td>\n",
       "    </tr>\n",
       "    <tr>\n",
       "      <td>369</td>\n",
       "      <td>boston</td>\n",
       "      <td>3075044</td>\n",
       "      <td>2017-08-18</td>\n",
       "      <td>t</td>\n",
       "      <td>75.0</td>\n",
       "      <td>2017</td>\n",
       "      <td>August</td>\n",
       "      <td>08</td>\n",
       "      <td>Friday</td>\n",
       "      <td>5</td>\n",
       "      <td>201708</td>\n",
       "      <td>2017-08</td>\n",
       "      <td>5-Friday</td>\n",
       "    </tr>\n",
       "  </tbody>\n",
       "</table>\n",
       "</div>"
      ],
      "text/plain": [
       "       city       id       date available  price  YEAR   MONTH month  \\\n",
       "365  boston  3075044 2017-08-22         t   65.0  2017  August    08   \n",
       "366  boston  3075044 2017-08-21         t   65.0  2017  August    08   \n",
       "367  boston  3075044 2017-08-20         t   65.0  2017  August    08   \n",
       "368  boston  3075044 2017-08-19         t   75.0  2017  August    08   \n",
       "369  boston  3075044 2017-08-18         t   75.0  2017  August    08   \n",
       "\n",
       "      WEEKDAY weekday  YYYYMM  YYYY-MM     WeekDay  \n",
       "365   Tuesday       2  201708  2017-08   2-Tuesday  \n",
       "366    Monday       1  201708  2017-08    1-Monday  \n",
       "367    Sunday       0  201708  2017-08    0-Sunday  \n",
       "368  Saturday       6  201708  2017-08  6-Saturday  \n",
       "369    Friday       5  201708  2017-08    5-Friday  "
      ]
     },
     "execution_count": 34,
     "metadata": {},
     "output_type": "execute_result"
    }
   ],
   "source": [
    "df_calendar['YYYY-MM'] = df_calendar['YEAR'] + '-' + df_calendar['month']\n",
    "df_calendar['WeekDay'] = df_calendar['weekday'] + '-' + df_calendar['WEEKDAY']\n",
    "df_calendar.head()"
   ]
  },
  {
   "cell_type": "markdown",
   "metadata": {},
   "source": [
    "### 1.3a Calculate daily average rental price by city"
   ]
  },
  {
   "cell_type": "code",
   "execution_count": 35,
   "metadata": {},
   "outputs": [
    {
     "data": {
      "text/html": [
       "<div>\n",
       "<style scoped>\n",
       "    .dataframe tbody tr th:only-of-type {\n",
       "        vertical-align: middle;\n",
       "    }\n",
       "\n",
       "    .dataframe tbody tr th {\n",
       "        vertical-align: top;\n",
       "    }\n",
       "\n",
       "    .dataframe thead th {\n",
       "        text-align: right;\n",
       "    }\n",
       "</style>\n",
       "<table border=\"1\" class=\"dataframe\">\n",
       "  <thead>\n",
       "    <tr style=\"text-align: right;\">\n",
       "      <th></th>\n",
       "      <th>city</th>\n",
       "      <th>date</th>\n",
       "      <th>price</th>\n",
       "    </tr>\n",
       "  </thead>\n",
       "  <tbody>\n",
       "    <tr>\n",
       "      <td>0</td>\n",
       "      <td>boston</td>\n",
       "      <td>2016-09-06</td>\n",
       "      <td>235.348673</td>\n",
       "    </tr>\n",
       "    <tr>\n",
       "      <td>1</td>\n",
       "      <td>boston</td>\n",
       "      <td>2016-09-07</td>\n",
       "      <td>246.603896</td>\n",
       "    </tr>\n",
       "    <tr>\n",
       "      <td>2</td>\n",
       "      <td>boston</td>\n",
       "      <td>2016-09-08</td>\n",
       "      <td>243.106061</td>\n",
       "    </tr>\n",
       "    <tr>\n",
       "      <td>3</td>\n",
       "      <td>boston</td>\n",
       "      <td>2016-09-09</td>\n",
       "      <td>253.857438</td>\n",
       "    </tr>\n",
       "    <tr>\n",
       "      <td>4</td>\n",
       "      <td>boston</td>\n",
       "      <td>2016-09-10</td>\n",
       "      <td>256.309322</td>\n",
       "    </tr>\n",
       "  </tbody>\n",
       "</table>\n",
       "</div>"
      ],
      "text/plain": [
       "     city       date       price\n",
       "0  boston 2016-09-06  235.348673\n",
       "1  boston 2016-09-07  246.603896\n",
       "2  boston 2016-09-08  243.106061\n",
       "3  boston 2016-09-09  253.857438\n",
       "4  boston 2016-09-10  256.309322"
      ]
     },
     "execution_count": 35,
     "metadata": {},
     "output_type": "execute_result"
    }
   ],
   "source": [
    "df_calendar_mean_price_city_date = df_calendar.groupby(['city','date'])['price'].mean()\n",
    "df_calendar_mean_price_city_date = df_calendar_mean_price_city_date.reset_index()\n",
    "df_calendar_mean_price_city_date.head()"
   ]
  },
  {
   "cell_type": "markdown",
   "metadata": {},
   "source": [
    "### 1.3b Plot daily average rental price by city"
   ]
  },
  {
   "cell_type": "code",
   "execution_count": 36,
   "metadata": {},
   "outputs": [
    {
     "data": {
      "text/plain": [
       "Text(0, 0.5, 'daily average rental price')"
      ]
     },
     "execution_count": 36,
     "metadata": {},
     "output_type": "execute_result"
    },
    {
     "data": {
      "image/png": "[encoded data removed]",
      "text/plain": [
       "<Figure size 1080x432 with 1 Axes>"
      ]
     },
     "metadata": {},
     "output_type": "display_data"
    }
   ],
   "source": [
    "# plot\n",
    "# https://cmdlinetips.com/2019/04/how-to-specify-colors-to-scatter-plots-in-python/\n",
    "\n",
    "sns.set_style(\"darkgrid\")\n",
    "plt.figure(figsize=(15, 6))\n",
    "plt.xticks(rotation=45)\n",
    "sns.lineplot(x=df_calendar_mean_price_city_date.date, \n",
    "             y=df_calendar_mean_price_city_date.price, \n",
    "             data=df_calendar_mean_price_city_date, hue='city')\n",
    "plt.title('daily average rental price @Airbnb in Boston and Seattle')\n",
    "plt.ylabel('daily average rental price')"
   ]
  },
  {
   "cell_type": "markdown",
   "metadata": {},
   "source": [
    "### 1.4a Calculate monthly average rental price by city"
   ]
  },
  {
   "cell_type": "code",
   "execution_count": 37,
   "metadata": {},
   "outputs": [
    {
     "data": {
      "text/html": [
       "<div>\n",
       "<style scoped>\n",
       "    .dataframe tbody tr th:only-of-type {\n",
       "        vertical-align: middle;\n",
       "    }\n",
       "\n",
       "    .dataframe tbody tr th {\n",
       "        vertical-align: top;\n",
       "    }\n",
       "\n",
       "    .dataframe thead th {\n",
       "        text-align: right;\n",
       "    }\n",
       "</style>\n",
       "<table border=\"1\" class=\"dataframe\">\n",
       "  <thead>\n",
       "    <tr style=\"text-align: right;\">\n",
       "      <th>city</th>\n",
       "      <th>boston</th>\n",
       "      <th>seattle</th>\n",
       "      <th>diff</th>\n",
       "    </tr>\n",
       "    <tr>\n",
       "      <th>month</th>\n",
       "      <th></th>\n",
       "      <th></th>\n",
       "      <th></th>\n",
       "    </tr>\n",
       "  </thead>\n",
       "  <tbody>\n",
       "    <tr>\n",
       "      <td>01</td>\n",
       "      <td>175.495119</td>\n",
       "      <td>120.379709</td>\n",
       "      <td>55.115410</td>\n",
       "    </tr>\n",
       "    <tr>\n",
       "      <td>02</td>\n",
       "      <td>172.960755</td>\n",
       "      <td>120.769052</td>\n",
       "      <td>52.191704</td>\n",
       "    </tr>\n",
       "    <tr>\n",
       "      <td>03</td>\n",
       "      <td>172.315801</td>\n",
       "      <td>124.938345</td>\n",
       "      <td>47.377456</td>\n",
       "    </tr>\n",
       "    <tr>\n",
       "      <td>04</td>\n",
       "      <td>181.030356</td>\n",
       "      <td>131.498440</td>\n",
       "      <td>49.531916</td>\n",
       "    </tr>\n",
       "    <tr>\n",
       "      <td>05</td>\n",
       "      <td>180.740529</td>\n",
       "      <td>135.930507</td>\n",
       "      <td>44.810022</td>\n",
       "    </tr>\n",
       "    <tr>\n",
       "      <td>06</td>\n",
       "      <td>183.987053</td>\n",
       "      <td>144.110780</td>\n",
       "      <td>39.876273</td>\n",
       "    </tr>\n",
       "    <tr>\n",
       "      <td>07</td>\n",
       "      <td>184.421001</td>\n",
       "      <td>147.912624</td>\n",
       "      <td>36.508377</td>\n",
       "    </tr>\n",
       "    <tr>\n",
       "      <td>08</td>\n",
       "      <td>181.883284</td>\n",
       "      <td>146.458517</td>\n",
       "      <td>35.424767</td>\n",
       "    </tr>\n",
       "    <tr>\n",
       "      <td>09</td>\n",
       "      <td>226.238506</td>\n",
       "      <td>139.138093</td>\n",
       "      <td>87.100413</td>\n",
       "    </tr>\n",
       "    <tr>\n",
       "      <td>10</td>\n",
       "      <td>225.908633</td>\n",
       "      <td>133.009015</td>\n",
       "      <td>92.899618</td>\n",
       "    </tr>\n",
       "    <tr>\n",
       "      <td>11</td>\n",
       "      <td>195.774070</td>\n",
       "      <td>131.592466</td>\n",
       "      <td>64.181604</td>\n",
       "    </tr>\n",
       "    <tr>\n",
       "      <td>12</td>\n",
       "      <td>184.668370</td>\n",
       "      <td>133.230860</td>\n",
       "      <td>51.437510</td>\n",
       "    </tr>\n",
       "  </tbody>\n",
       "</table>\n",
       "</div>"
      ],
      "text/plain": [
       "city       boston     seattle       diff\n",
       "month                                   \n",
       "01     175.495119  120.379709  55.115410\n",
       "02     172.960755  120.769052  52.191704\n",
       "03     172.315801  124.938345  47.377456\n",
       "04     181.030356  131.498440  49.531916\n",
       "05     180.740529  135.930507  44.810022\n",
       "06     183.987053  144.110780  39.876273\n",
       "07     184.421001  147.912624  36.508377\n",
       "08     181.883284  146.458517  35.424767\n",
       "09     226.238506  139.138093  87.100413\n",
       "10     225.908633  133.009015  92.899618\n",
       "11     195.774070  131.592466  64.181604\n",
       "12     184.668370  133.230860  51.437510"
      ]
     },
     "execution_count": 37,
     "metadata": {},
     "output_type": "execute_result"
    }
   ],
   "source": [
    "df_calendar_mean_price_city_month = df_calendar.groupby(['city','month'])['price'].mean()\n",
    "df_calendar_mean_price_city_month = df_calendar_mean_price_city_month.reset_index()\n",
    "df_calendar_mean_price_city_month_pivot = \\\n",
    "                            df_calendar_mean_price_city_month.pivot(index='month', columns='city', values='price')\n",
    "df_calendar_mean_price_city_month_pivot['diff'] = df_calendar_mean_price_city_month_pivot.boston - \\\n",
    "                                                  df_calendar_mean_price_city_month_pivot.seattle\n",
    "df_calendar_mean_price_city_month_pivot"
   ]
  },
  {
   "cell_type": "markdown",
   "metadata": {},
   "source": [
    "### 1.4b-1 Linechart plot monthly average rental price by city"
   ]
  },
  {
   "cell_type": "code",
   "execution_count": 38,
   "metadata": {},
   "outputs": [
    {
     "data": {
      "text/plain": [
       "Text(0, 0.5, 'monthly average price $')"
      ]
     },
     "execution_count": 38,
     "metadata": {},
     "output_type": "execute_result"
    },
    {
     "data": {
      "image/png": "[encoded data removed]",
      "text/plain": [
       "<Figure size 864x360 with 1 Axes>"
      ]
     },
     "metadata": {},
     "output_type": "display_data"
    }
   ],
   "source": [
    "sns.set_style(\"darkgrid\")\n",
    "plt.figure(figsize=(12,5))\n",
    "ax = sns.lineplot(x=df_calendar_mean_price_city_month.month, \n",
    "                  y=df_calendar_mean_price_city_month.price, \n",
    "                  data=df_calendar_mean_price_city_month, hue='city')\n",
    "plt.title('monthly average rental price @Airbnb in Boston and Seattle')\n",
    "plt.ylabel('monthly average price $')\n",
    "# ax.set(title='monthly average rental price @AirBnB in Boston and Seattle', ylabel='monthly average price $')"
   ]
  },
  {
   "cell_type": "markdown",
   "metadata": {},
   "source": [
    "### 1.4b-2 Barchart plot monthly average rental price by city "
   ]
  },
  {
   "cell_type": "code",
   "execution_count": 39,
   "metadata": {},
   "outputs": [
    {
     "data": {
      "text/plain": [
       "Text(0, 0.5, 'monthly average price $')"
      ]
     },
     "execution_count": 39,
     "metadata": {},
     "output_type": "execute_result"
    },
    {
     "data": {
      "image/png": "[encoded data removed]",
      "text/plain": [
       "<Figure size 864x360 with 1 Axes>"
      ]
     },
     "metadata": {},
     "output_type": "display_data"
    }
   ],
   "source": [
    "sns.set_style(\"darkgrid\")\n",
    "plt.figure(figsize=(12,5))\n",
    "ax = sns.barplot(x=df_calendar_mean_price_city_month.month, \n",
    "                 y=df_calendar_mean_price_city_month.price, \n",
    "                 data=df_calendar_mean_price_city_month, hue='city')\n",
    "plt.title('monthly average rental price @Airbnb in Boston and Seattle')\n",
    "plt.ylabel('monthly average price $')\n",
    "# plt.ylim(120, 240)"
   ]
  },
  {
   "cell_type": "markdown",
   "metadata": {},
   "source": [
    "### 1.5a Calculate weekday average rental price by city"
   ]
  },
  {
   "cell_type": "code",
   "execution_count": 40,
   "metadata": {},
   "outputs": [
    {
     "data": {
      "text/html": [
       "<div>\n",
       "<style scoped>\n",
       "    .dataframe tbody tr th:only-of-type {\n",
       "        vertical-align: middle;\n",
       "    }\n",
       "\n",
       "    .dataframe tbody tr th {\n",
       "        vertical-align: top;\n",
       "    }\n",
       "\n",
       "    .dataframe thead th {\n",
       "        text-align: right;\n",
       "    }\n",
       "</style>\n",
       "<table border=\"1\" class=\"dataframe\">\n",
       "  <thead>\n",
       "    <tr style=\"text-align: right;\">\n",
       "      <th>city</th>\n",
       "      <th>boston</th>\n",
       "      <th>seattle</th>\n",
       "      <th>diff</th>\n",
       "    </tr>\n",
       "    <tr>\n",
       "      <th>WeekDay</th>\n",
       "      <th></th>\n",
       "      <th></th>\n",
       "      <th></th>\n",
       "    </tr>\n",
       "  </thead>\n",
       "  <tbody>\n",
       "    <tr>\n",
       "      <td>0-Sunday</td>\n",
       "      <td>186.678288</td>\n",
       "      <td>132.677756</td>\n",
       "      <td>54.000532</td>\n",
       "    </tr>\n",
       "    <tr>\n",
       "      <td>1-Monday</td>\n",
       "      <td>184.874580</td>\n",
       "      <td>131.805800</td>\n",
       "      <td>53.068780</td>\n",
       "    </tr>\n",
       "    <tr>\n",
       "      <td>2-Tuesday</td>\n",
       "      <td>184.371507</td>\n",
       "      <td>131.571103</td>\n",
       "      <td>52.800404</td>\n",
       "    </tr>\n",
       "    <tr>\n",
       "      <td>3-Wednesday</td>\n",
       "      <td>184.962679</td>\n",
       "      <td>131.681904</td>\n",
       "      <td>53.280775</td>\n",
       "    </tr>\n",
       "    <tr>\n",
       "      <td>4-Thursday</td>\n",
       "      <td>186.699843</td>\n",
       "      <td>132.764815</td>\n",
       "      <td>53.935028</td>\n",
       "    </tr>\n",
       "    <tr>\n",
       "      <td>5-Friday</td>\n",
       "      <td>190.239257</td>\n",
       "      <td>139.335302</td>\n",
       "      <td>50.903955</td>\n",
       "    </tr>\n",
       "    <tr>\n",
       "      <td>6-Saturday</td>\n",
       "      <td>190.523086</td>\n",
       "      <td>139.472621</td>\n",
       "      <td>51.050465</td>\n",
       "    </tr>\n",
       "  </tbody>\n",
       "</table>\n",
       "</div>"
      ],
      "text/plain": [
       "city             boston     seattle       diff\n",
       "WeekDay                                       \n",
       "0-Sunday     186.678288  132.677756  54.000532\n",
       "1-Monday     184.874580  131.805800  53.068780\n",
       "2-Tuesday    184.371507  131.571103  52.800404\n",
       "3-Wednesday  184.962679  131.681904  53.280775\n",
       "4-Thursday   186.699843  132.764815  53.935028\n",
       "5-Friday     190.239257  139.335302  50.903955\n",
       "6-Saturday   190.523086  139.472621  51.050465"
      ]
     },
     "execution_count": 40,
     "metadata": {},
     "output_type": "execute_result"
    }
   ],
   "source": [
    "df_calendar_mean_price_city_weekday = df_calendar.groupby(['city', 'WeekDay'])['price'].mean()\n",
    "df_calendar_mean_price_city_weekday = df_calendar_mean_price_city_weekday.reset_index()\n",
    "df_calendar_mean_price_city_weekday\n",
    "df_calendar_mean_price_city_weekday_pivot = \\\n",
    "                        df_calendar_mean_price_city_weekday.pivot(index='WeekDay', columns='city', values='price')\n",
    "df_calendar_mean_price_city_weekday_pivot['diff'] = df_calendar_mean_price_city_weekday_pivot.boston - \\\n",
    "                                                    df_calendar_mean_price_city_weekday_pivot.seattle\n",
    "df_calendar_mean_price_city_weekday_pivot"
   ]
  },
  {
   "cell_type": "markdown",
   "metadata": {},
   "source": [
    "### 1.5b-1 Linechart plot weekday average rental price by city"
   ]
  },
  {
   "cell_type": "code",
   "execution_count": 41,
   "metadata": {},
   "outputs": [
    {
     "data": {
      "text/plain": [
       "Text(0, 0.5, 'weekday average price $')"
      ]
     },
     "execution_count": 41,
     "metadata": {},
     "output_type": "execute_result"
    },
    {
     "data": {
      "image/png": "[encoded data removed]",
      "text/plain": [
       "<Figure size 720x360 with 1 Axes>"
      ]
     },
     "metadata": {},
     "output_type": "display_data"
    }
   ],
   "source": [
    "sns.set_style(\"darkgrid\")\n",
    "plt.figure(figsize=(10,5))\n",
    "ax = sns.lineplot(x=df_calendar_mean_price_city_weekday.WeekDay, \n",
    "                  y=df_calendar_mean_price_city_weekday.price, \n",
    "                  data=df_calendar_mean_price_city_weekday, hue='city')\n",
    "# plt.ylim(120, 210)\n",
    "plt.title('weekday average rental price @Airbnb in Boston and Seattle')\n",
    "plt.ylabel('weekday average price $')"
   ]
  },
  {
   "cell_type": "markdown",
   "metadata": {},
   "source": [
    "### 1.5b-2 Barchart plot weekday average rental price by city"
   ]
  },
  {
   "cell_type": "code",
   "execution_count": 42,
   "metadata": {},
   "outputs": [
    {
     "data": {
      "text/plain": [
       "Text(0, 0.5, 'weekday average price $')"
      ]
     },
     "execution_count": 42,
     "metadata": {},
     "output_type": "execute_result"
    },
    {
     "data": {
      "image/png": "[encoded data removed]",
      "text/plain": [
       "<Figure size 720x360 with 1 Axes>"
      ]
     },
     "metadata": {},
     "output_type": "display_data"
    }
   ],
   "source": [
    "sns.set_style(\"darkgrid\")\n",
    "plt.figure(figsize=(10,5))\n",
    "ax = sns.barplot(x=df_calendar_mean_price_city_weekday.WeekDay, \n",
    "                 y=df_calendar_mean_price_city_weekday.price, \n",
    "                 data=df_calendar_mean_price_city_weekday, hue='city')\n",
    "# plt.ylim(130, 200)\n",
    "plt.title('weekday average rental price @Airbnb in Boston and Seattle')\n",
    "plt.ylabel('weekday average price $')"
   ]
  },
  {
   "cell_type": "markdown",
   "metadata": {},
   "source": [
    "### 1.6 Summary\n",
    "* Within the same period (Sep 6, 2016 to Jan 2, 2017), daily average rental price (DAR price) is higher in Boston (\\\\$191) than in Seattle (\\\\$136).\n",
    "* DAR price in both Seattle and Boston shows a strong seasonal pattern. \n",
    " * In both cities, DAR price is relatively low at the beginning of the year and gradually increases as the season enters summer. \n",
    " * The months of peak DAR price varies though for each city. In Seattle, DAR price is relatively high from May through September, with June (\\\\$146), July (\\\\$150), and August (\\\\$148) the obvious top three,  more than \\\\$10 more than the annual average. In Boston, DAR price is relatively high from September through November, with September (\\\\$229) and October (\\\\$228) the obvious top two, close to \\\\$30 more than the annual average.\n",
    "* DAR price in both Seattle and Boston also shows a strong weekday pattern as shown in the above plot by many small peaks. Each peak cycle corresponds to one week. \n",
    " * In both cities, DAR price is relatively high on Friday and Saturday, close to \\\\$6~$7 more than the annual average."
   ]
  },
  {
   "cell_type": "code",
   "execution_count": null,
   "metadata": {},
   "outputs": [],
   "source": []
  }
 ],
 "metadata": {
  "kernelspec": {
   "display_name": "Python 3",
   "language": "python",
   "name": "python3"
  },
  "language_info": {
   "codemirror_mode": {
    "name": "ipython",
    "version": 3
   },
   "file_extension": ".py",
   "mimetype": "text/x-python",
   "name": "python",
   "nbconvert_exporter": "python",
   "pygments_lexer": "ipython3",
   "version": "3.7.4"
  }
 },
 "nbformat": 4,
 "nbformat_minor": 2
}
