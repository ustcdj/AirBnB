{
 "cells": [
  {
   "cell_type": "markdown",
   "metadata": {},
   "source": [
    "## AirBnB price trend"
   ]
  },
  {
   "cell_type": "code",
   "execution_count": 22,
   "metadata": {},
   "outputs": [],
   "source": [
    "import pandas as pd\n",
    "import datetime \n",
    "import matplotlib.pyplot as plt\n",
    "import seaborn as sns\n",
    "%matplotlib inline"
   ]
  },
  {
   "cell_type": "code",
   "execution_count": 23,
   "metadata": {},
   "outputs": [],
   "source": [
    "pd.set_option(\"display.max.columns\", None)\n",
    "pd.set_option('min_rows', 10)"
   ]
  },
  {
   "cell_type": "markdown",
   "metadata": {},
   "source": [
    "### 1.1 Load the data"
   ]
  },
  {
   "cell_type": "code",
   "execution_count": 24,
   "metadata": {},
   "outputs": [],
   "source": [
    "df_boston_calendar = pd.read_csv('boston\\calendar.csv', sep=',')\n",
    "df_seattle_calendar = pd.read_csv('seattle\\calendar.csv', sep=',')"
   ]
  },
  {
   "cell_type": "code",
   "execution_count": 25,
   "metadata": {},
   "outputs": [
    {
     "data": {
      "text/html": [
       "<div>\n",
       "<style scoped>\n",
       "    .dataframe tbody tr th:only-of-type {\n",
       "        vertical-align: middle;\n",
       "    }\n",
       "\n",
       "    .dataframe tbody tr th {\n",
       "        vertical-align: top;\n",
       "    }\n",
       "\n",
       "    .dataframe thead th {\n",
       "        text-align: right;\n",
       "    }\n",
       "</style>\n",
       "<table border=\"1\" class=\"dataframe\">\n",
       "  <thead>\n",
       "    <tr style=\"text-align: right;\">\n",
       "      <th></th>\n",
       "      <th>listing_id</th>\n",
       "      <th>date</th>\n",
       "      <th>available</th>\n",
       "      <th>price</th>\n",
       "    </tr>\n",
       "  </thead>\n",
       "  <tbody>\n",
       "    <tr>\n",
       "      <td>0</td>\n",
       "      <td>12147973</td>\n",
       "      <td>2017-09-05</td>\n",
       "      <td>f</td>\n",
       "      <td>NaN</td>\n",
       "    </tr>\n",
       "    <tr>\n",
       "      <td>1</td>\n",
       "      <td>12147973</td>\n",
       "      <td>2017-09-04</td>\n",
       "      <td>f</td>\n",
       "      <td>NaN</td>\n",
       "    </tr>\n",
       "    <tr>\n",
       "      <td>2</td>\n",
       "      <td>12147973</td>\n",
       "      <td>2017-09-03</td>\n",
       "      <td>f</td>\n",
       "      <td>NaN</td>\n",
       "    </tr>\n",
       "    <tr>\n",
       "      <td>3</td>\n",
       "      <td>12147973</td>\n",
       "      <td>2017-09-02</td>\n",
       "      <td>f</td>\n",
       "      <td>NaN</td>\n",
       "    </tr>\n",
       "    <tr>\n",
       "      <td>4</td>\n",
       "      <td>12147973</td>\n",
       "      <td>2017-09-01</td>\n",
       "      <td>f</td>\n",
       "      <td>NaN</td>\n",
       "    </tr>\n",
       "  </tbody>\n",
       "</table>\n",
       "</div>"
      ],
      "text/plain": [
       "   listing_id        date available price\n",
       "0    12147973  2017-09-05         f   NaN\n",
       "1    12147973  2017-09-04         f   NaN\n",
       "2    12147973  2017-09-03         f   NaN\n",
       "3    12147973  2017-09-02         f   NaN\n",
       "4    12147973  2017-09-01         f   NaN"
      ]
     },
     "execution_count": 25,
     "metadata": {},
     "output_type": "execute_result"
    }
   ],
   "source": [
    "df_boston_calendar.head()"
   ]
  },
  {
   "cell_type": "markdown",
   "metadata": {},
   "source": [
    "### 1.2 Process the data"
   ]
  },
  {
   "cell_type": "code",
   "execution_count": 26,
   "metadata": {},
   "outputs": [
    {
     "data": {
      "text/html": [
       "<div>\n",
       "<style scoped>\n",
       "    .dataframe tbody tr th:only-of-type {\n",
       "        vertical-align: middle;\n",
       "    }\n",
       "\n",
       "    .dataframe tbody tr th {\n",
       "        vertical-align: top;\n",
       "    }\n",
       "\n",
       "    .dataframe thead th {\n",
       "        text-align: right;\n",
       "    }\n",
       "</style>\n",
       "<table border=\"1\" class=\"dataframe\">\n",
       "  <thead>\n",
       "    <tr style=\"text-align: right;\">\n",
       "      <th></th>\n",
       "      <th></th>\n",
       "      <th>id</th>\n",
       "      <th>date</th>\n",
       "      <th>available</th>\n",
       "      <th>price</th>\n",
       "    </tr>\n",
       "    <tr>\n",
       "      <th>city</th>\n",
       "      <th>i</th>\n",
       "      <th></th>\n",
       "      <th></th>\n",
       "      <th></th>\n",
       "      <th></th>\n",
       "    </tr>\n",
       "  </thead>\n",
       "  <tbody>\n",
       "    <tr>\n",
       "      <td rowspan=\"5\" valign=\"top\">boston</td>\n",
       "      <td>0</td>\n",
       "      <td>12147973</td>\n",
       "      <td>2017-09-05</td>\n",
       "      <td>f</td>\n",
       "      <td>NaN</td>\n",
       "    </tr>\n",
       "    <tr>\n",
       "      <td>1</td>\n",
       "      <td>12147973</td>\n",
       "      <td>2017-09-04</td>\n",
       "      <td>f</td>\n",
       "      <td>NaN</td>\n",
       "    </tr>\n",
       "    <tr>\n",
       "      <td>2</td>\n",
       "      <td>12147973</td>\n",
       "      <td>2017-09-03</td>\n",
       "      <td>f</td>\n",
       "      <td>NaN</td>\n",
       "    </tr>\n",
       "    <tr>\n",
       "      <td>3</td>\n",
       "      <td>12147973</td>\n",
       "      <td>2017-09-02</td>\n",
       "      <td>f</td>\n",
       "      <td>NaN</td>\n",
       "    </tr>\n",
       "    <tr>\n",
       "      <td>4</td>\n",
       "      <td>12147973</td>\n",
       "      <td>2017-09-01</td>\n",
       "      <td>f</td>\n",
       "      <td>NaN</td>\n",
       "    </tr>\n",
       "  </tbody>\n",
       "</table>\n",
       "</div>"
      ],
      "text/plain": [
       "                id        date available price\n",
       "city   i                                      \n",
       "boston 0  12147973  2017-09-05         f   NaN\n",
       "       1  12147973  2017-09-04         f   NaN\n",
       "       2  12147973  2017-09-03         f   NaN\n",
       "       3  12147973  2017-09-02         f   NaN\n",
       "       4  12147973  2017-09-01         f   NaN"
      ]
     },
     "execution_count": 26,
     "metadata": {},
     "output_type": "execute_result"
    }
   ],
   "source": [
    "# combine calendars of Boston and Seattle\n",
    "df_calendar = pd.concat([df_boston_calendar, df_seattle_calendar], keys=['boston', 'seattle'], names=['city','i'], sort=False)\n",
    "df_calendar.rename(columns={'listing_id': 'id'}, inplace=True)\n",
    "df_calendar.head()"
   ]
  },
  {
   "cell_type": "code",
   "execution_count": 27,
   "metadata": {},
   "outputs": [
    {
     "data": {
      "text/html": [
       "<div>\n",
       "<style scoped>\n",
       "    .dataframe tbody tr th:only-of-type {\n",
       "        vertical-align: middle;\n",
       "    }\n",
       "\n",
       "    .dataframe tbody tr th {\n",
       "        vertical-align: top;\n",
       "    }\n",
       "\n",
       "    .dataframe thead th {\n",
       "        text-align: right;\n",
       "    }\n",
       "</style>\n",
       "<table border=\"1\" class=\"dataframe\">\n",
       "  <thead>\n",
       "    <tr style=\"text-align: right;\">\n",
       "      <th></th>\n",
       "      <th>city</th>\n",
       "      <th>id</th>\n",
       "      <th>date</th>\n",
       "      <th>available</th>\n",
       "      <th>price</th>\n",
       "    </tr>\n",
       "  </thead>\n",
       "  <tbody>\n",
       "    <tr>\n",
       "      <td>365</td>\n",
       "      <td>boston</td>\n",
       "      <td>3075044</td>\n",
       "      <td>2017-08-22</td>\n",
       "      <td>t</td>\n",
       "      <td>$65.00</td>\n",
       "    </tr>\n",
       "    <tr>\n",
       "      <td>366</td>\n",
       "      <td>boston</td>\n",
       "      <td>3075044</td>\n",
       "      <td>2017-08-21</td>\n",
       "      <td>t</td>\n",
       "      <td>$65.00</td>\n",
       "    </tr>\n",
       "    <tr>\n",
       "      <td>367</td>\n",
       "      <td>boston</td>\n",
       "      <td>3075044</td>\n",
       "      <td>2017-08-20</td>\n",
       "      <td>t</td>\n",
       "      <td>$65.00</td>\n",
       "    </tr>\n",
       "    <tr>\n",
       "      <td>368</td>\n",
       "      <td>boston</td>\n",
       "      <td>3075044</td>\n",
       "      <td>2017-08-19</td>\n",
       "      <td>t</td>\n",
       "      <td>$75.00</td>\n",
       "    </tr>\n",
       "    <tr>\n",
       "      <td>369</td>\n",
       "      <td>boston</td>\n",
       "      <td>3075044</td>\n",
       "      <td>2017-08-18</td>\n",
       "      <td>t</td>\n",
       "      <td>$75.00</td>\n",
       "    </tr>\n",
       "  </tbody>\n",
       "</table>\n",
       "</div>"
      ],
      "text/plain": [
       "       city       id        date available   price\n",
       "365  boston  3075044  2017-08-22         t  $65.00\n",
       "366  boston  3075044  2017-08-21         t  $65.00\n",
       "367  boston  3075044  2017-08-20         t  $65.00\n",
       "368  boston  3075044  2017-08-19         t  $75.00\n",
       "369  boston  3075044  2017-08-18         t  $75.00"
      ]
     },
     "execution_count": 27,
     "metadata": {},
     "output_type": "execute_result"
    }
   ],
   "source": [
    "df_calendar.reset_index(inplace=True)\n",
    "\n",
    "# drop available='f'\n",
    "df_calendar.dropna(inplace=True)\n",
    "df_calendar.drop(axis=1, columns=['i'], inplace=True)\n",
    "df_calendar.head()"
   ]
  },
  {
   "cell_type": "code",
   "execution_count": 28,
   "metadata": {},
   "outputs": [
    {
     "data": {
      "text/plain": [
       "(1577579, 5)"
      ]
     },
     "execution_count": 28,
     "metadata": {},
     "output_type": "execute_result"
    }
   ],
   "source": [
    "df_calendar.shape"
   ]
  },
  {
   "cell_type": "code",
   "execution_count": 29,
   "metadata": {},
   "outputs": [],
   "source": [
    "# convert string price to numeric\n",
    "df_calendar.replace('[$,]', '', regex=True, inplace=True)\n",
    "df_calendar.price = df_calendar.price.astype(float)\n",
    "\n",
    "# convert string date to actual date\n",
    "df_calendar['date'] = pd.to_datetime(df_calendar['date'])\n",
    "\n",
    "# convert id(listing_id) to string\n",
    "df_calendar.id = df_calendar.id.astype('O')"
   ]
  },
  {
   "cell_type": "code",
   "execution_count": 30,
   "metadata": {},
   "outputs": [
    {
     "data": {
      "text/plain": [
       "array([[<matplotlib.axes._subplots.AxesSubplot object at 0x0000025A16AA2148>]],\n",
       "      dtype=object)"
      ]
     },
     "execution_count": 30,
     "metadata": {},
     "output_type": "execute_result"
    },
    {
     "data": {
      "image/png": "[encoded data removed]",
      "text/plain": [
       "<Figure size 1080x288 with 1 Axes>"
      ]
     },
     "metadata": {
      "needs_background": "light"
     },
     "output_type": "display_data"
    }
   ],
   "source": [
    "# check price distribution\n",
    "df_calendar.hist(figsize=(15, 4), bins=50)"
   ]
  },
  {
   "cell_type": "code",
   "execution_count": 31,
   "metadata": {},
   "outputs": [
    {
     "data": {
      "text/plain": [
       "array([[<matplotlib.axes._subplots.AxesSubplot object at 0x0000025A1462E248>]],\n",
       "      dtype=object)"
      ]
     },
     "execution_count": 31,
     "metadata": {},
     "output_type": "execute_result"
    },
    {
     "data": {
      "image/png": "[encoded data removed]",
      "text/plain": [
       "<Figure size 1080x288 with 1 Axes>"
      ]
     },
     "metadata": {
      "needs_background": "light"
     },
     "output_type": "display_data"
    }
   ],
   "source": [
    "df_calendar[(df_calendar.price < 1000)].hist(figsize=(15, 4), bins=50)"
   ]
  },
  {
   "cell_type": "code",
   "execution_count": 32,
   "metadata": {},
   "outputs": [
    {
     "data": {
      "text/plain": [
       "(1564289, 5)"
      ]
     },
     "execution_count": 32,
     "metadata": {},
     "output_type": "execute_result"
    }
   ],
   "source": [
    "# drop records with price >= $700 (most of the records have price within $700/day)\n",
    "df_calendar = df_calendar[df_calendar.price < 700]\n",
    "df_calendar.shape"
   ]
  },
  {
   "cell_type": "code",
   "execution_count": null,
   "metadata": {},
   "outputs": [],
   "source": [
    "# add some date variables for each plotting\n",
    "df_calendar['YEAR'] = df_calendar.date.apply(lambda x: x.strftime('%Y'))\n",
    "df_calendar['MONTH'] = df_calendar.date.apply(lambda x: x.strftime('%B'))\n",
    "df_calendar['month'] = df_calendar.date.apply(lambda x: x.strftime('%m'))\n",
    "df_calendar['WEEKDAY'] = df_calendar.date.apply(lambda x: x.strftime('%A'))\n",
    "df_calendar['weekday'] = df_calendar.date.apply(lambda x: x.strftime('%w'))\n",
    "df_calendar['YYYYMM'] = df_calendar['YEAR'] + df_calendar['month']\n",
    "df_calendar.head()"
   ]
  },
  {
   "cell_type": "code",
   "execution_count": null,
   "metadata": {},
   "outputs": [],
   "source": [
    "df_calendar['YYYY-MM'] = df_calendar['YEAR'] + '-' + df_calendar['month']\n",
    "df_calendar['WeekDay'] = df_calendar['weekday'] + '-' + df_calendar['WEEKDAY']\n",
    "df_calendar.head()"
   ]
  },
  {
   "cell_type": "markdown",
   "metadata": {},
   "source": [
    "### 1.3a Calculate daily average rental price by city"
   ]
  },
  {
   "cell_type": "code",
   "execution_count": null,
   "metadata": {},
   "outputs": [],
   "source": [
    "df_calendar_mean_price_city_date = df_calendar.groupby(['city','date'])['price'].mean()\n",
    "df_calendar_mean_price_city_date = df_calendar_mean_price_city_date.reset_index()\n",
    "df_calendar_mean_price_city_date.head()"
   ]
  },
  {
   "cell_type": "markdown",
   "metadata": {},
   "source": [
    "### 1.3b Plot daily average rental price by city"
   ]
  },
  {
   "cell_type": "code",
   "execution_count": null,
   "metadata": {},
   "outputs": [],
   "source": [
    "# plot\n",
    "# https://cmdlinetips.com/2019/04/how-to-specify-colors-to-scatter-plots-in-python/\n",
    "\n",
    "sns.set_style(\"darkgrid\")\n",
    "plt.figure(figsize=(15, 6))\n",
    "plt.xticks(rotation=45)\n",
    "sns.lineplot(x=df_calendar_mean_price_city_date.date, \n",
    "             y=df_calendar_mean_price_city_date.price, \n",
    "             data=df_calendar_mean_price_city_date, hue='city')\n",
    "plt.title('daily average rental price @Airbnb in Boston and Seattle')\n",
    "plt.ylabel('daily average rental price')"
   ]
  },
  {
   "cell_type": "markdown",
   "metadata": {},
   "source": [
    "### 1.4a Calculate monthly average rental price by city"
   ]
  },
  {
   "cell_type": "code",
   "execution_count": null,
   "metadata": {},
   "outputs": [],
   "source": [
    "df_calendar_mean_price_city_month = df_calendar.groupby(['city','month'])['price'].mean()\n",
    "df_calendar_mean_price_city_month = df_calendar_mean_price_city_month.reset_index()\n",
    "df_calendar_mean_price_city_month_pivot = \\\n",
    "                            df_calendar_mean_price_city_month.pivot(index='month', columns='city', values='price')\n",
    "df_calendar_mean_price_city_month_pivot['diff'] = df_calendar_mean_price_city_month_pivot.boston - \\\n",
    "                                                  df_calendar_mean_price_city_month_pivot.seattle\n",
    "df_calendar_mean_price_city_month_pivot"
   ]
  },
  {
   "cell_type": "markdown",
   "metadata": {},
   "source": [
    "### 1.4b-1 Linechart plot monthly average rental price by city"
   ]
  },
  {
   "cell_type": "code",
   "execution_count": null,
   "metadata": {},
   "outputs": [],
   "source": [
    "sns.set_style(\"darkgrid\")\n",
    "plt.figure(figsize=(12,5))\n",
    "ax = sns.lineplot(x=df_calendar_mean_price_city_month.month, \n",
    "                  y=df_calendar_mean_price_city_month.price, \n",
    "                  data=df_calendar_mean_price_city_month, hue='city')\n",
    "plt.title('monthly average rental price @Airbnb in Boston and Seattle')\n",
    "plt.ylabel('monthly average price $')\n",
    "# ax.set(title='monthly average rental price @AirBnB in Boston and Seattle', ylabel='monthly average price $')"
   ]
  },
  {
   "cell_type": "markdown",
   "metadata": {},
   "source": [
    "### 1.4b-2 Barchart plot monthly average rental price by city "
   ]
  },
  {
   "cell_type": "code",
   "execution_count": null,
   "metadata": {},
   "outputs": [],
   "source": [
    "sns.set_style(\"darkgrid\")\n",
    "plt.figure(figsize=(12,5))\n",
    "ax = sns.barplot(x=df_calendar_mean_price_city_month.month, \n",
    "                 y=df_calendar_mean_price_city_month.price, \n",
    "                 data=df_calendar_mean_price_city_month, hue='city')\n",
    "plt.title('monthly average rental price @Airbnb in Boston and Seattle')\n",
    "plt.ylabel('monthly average price $')\n",
    "# plt.ylim(120, 240)"
   ]
  },
  {
   "cell_type": "markdown",
   "metadata": {},
   "source": [
    "### 1.5a Calculate weekday average rental price by city"
   ]
  },
  {
   "cell_type": "code",
   "execution_count": null,
   "metadata": {},
   "outputs": [],
   "source": [
    "df_calendar_mean_price_city_weekday = df_calendar.groupby(['city', 'WeekDay'])['price'].mean()\n",
    "df_calendar_mean_price_city_weekday = df_calendar_mean_price_city_weekday.reset_index()\n",
    "df_calendar_mean_price_city_weekday\n",
    "df_calendar_mean_price_city_weekday_pivot = \\\n",
    "                        df_calendar_mean_price_city_weekday.pivot(index='WeekDay', columns='city', values='price')\n",
    "df_calendar_mean_price_city_weekday_pivot['diff'] = df_calendar_mean_price_city_weekday_pivot.boston - \\\n",
    "                                                    df_calendar_mean_price_city_weekday_pivot.seattle\n",
    "df_calendar_mean_price_city_weekday_pivot"
   ]
  },
  {
   "cell_type": "markdown",
   "metadata": {},
   "source": [
    "### 1.5b-1 Linechart plot weekday average rental price by city"
   ]
  },
  {
   "cell_type": "code",
   "execution_count": null,
   "metadata": {},
   "outputs": [],
   "source": [
    "sns.set_style(\"darkgrid\")\n",
    "plt.figure(figsize=(10,5))\n",
    "ax = sns.lineplot(x=df_calendar_mean_price_city_weekday.WeekDay, \n",
    "                  y=df_calendar_mean_price_city_weekday.price, \n",
    "                  data=df_calendar_mean_price_city_weekday, hue='city')\n",
    "# plt.ylim(120, 210)\n",
    "plt.title('weekday average rental price @Airbnb in Boston and Seattle')\n",
    "plt.ylabel('weekday average price $')"
   ]
  },
  {
   "cell_type": "markdown",
   "metadata": {},
   "source": [
    "### 1.5b-2 Barchart plot weekday average rental price by city"
   ]
  },
  {
   "cell_type": "code",
   "execution_count": null,
   "metadata": {},
   "outputs": [],
   "source": [
    "sns.set_style(\"darkgrid\")\n",
    "plt.figure(figsize=(10,5))\n",
    "ax = sns.barplot(x=df_calendar_mean_price_city_weekday.WeekDay, \n",
    "                 y=df_calendar_mean_price_city_weekday.price, \n",
    "                 data=df_calendar_mean_price_city_weekday, hue='city')\n",
    "# plt.ylim(130, 200)\n",
    "plt.title('weekday average rental price @Airbnb in Boston and Seattle')\n",
    "plt.ylabel('weekday average price $')"
   ]
  },
  {
   "cell_type": "markdown",
   "metadata": {},
   "source": [
    "### 1.6 Summary\n",
    "* Within the same period (Sep 6, 2016 to Jan 2, 2017), daily average rental price (DAR price) is higher in Boston (\\\\$191) than in Seattle (\\\\$136).\n",
    "* DAR price in both Seattle and Boston shows a strong seasonal pattern. \n",
    " * In both cities, DAR price is relatively low at the beginning of the year and gradually increases as the season enters summer. \n",
    " * The months of peak DAR price varies though for each city. In Seattle, DAR price is relatively high from May through September, with June (\\\\$146), July (\\\\$150), and August (\\\\$148) the obvious top three,  more than \\\\$10 more than the annual average. In Boston, DAR price is relatively high from September through November, with September (\\\\$229) and October (\\\\$228) the obvious top two, close to \\\\$30 more than the annual average.\n",
    "* DAR price in both Seattle and Boston also shows a strong weekday pattern as shown in the above plot by many small peaks. Each peak cycle corresponds to one week. \n",
    " * In both cities, DAR price is relatively high on Friday and Saturday, close to \\\\$6~$7 more than the annual average."
   ]
  },
  {
   "cell_type": "code",
   "execution_count": null,
   "metadata": {},
   "outputs": [],
   "source": []
  }
 ],
 "metadata": {
  "kernelspec": {
   "display_name": "Python 3",
   "language": "python",
   "name": "python3"
  },
  "language_info": {
   "codemirror_mode": {
    "name": "ipython",
    "version": 3
   },
   "file_extension": ".py",
   "mimetype": "text/x-python",
   "name": "python",
   "nbconvert_exporter": "python",
   "pygments_lexer": "ipython3",
   "version": "3.7.4"
  }
 },
 "nbformat": 4,
 "nbformat_minor": 2
}
